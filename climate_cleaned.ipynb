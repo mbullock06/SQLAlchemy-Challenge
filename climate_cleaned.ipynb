{
 "cells": [
  {
   "cell_type": "code",
   "execution_count": null,
   "id": "4e16bf8e",
   "metadata": {},
   "outputs": [],
   "source": [
    "# Import Dependencies"
   ]
  },
  {
   "cell_type": "code",
   "execution_count": null,
   "id": "9d918aa2",
   "metadata": {},
   "outputs": [],
   "source": [
    "import matplotlib.pyplot as plt\n",
    "import numpy as np\n",
    "import pandas as pd\n",
    "import datetime as dt\n",
    "from sqlalchemy import create_engine, func\n",
    "from sqlalchemy.ext.automap import automap_base\n",
    "from sqlalchemy.orm import Session"
   ]
  },
  {
   "cell_type": "code",
   "execution_count": null,
   "id": "1735754c",
   "metadata": {},
   "outputs": [],
   "source": [
    "# Database Setup"
   ]
  },
  {
   "cell_type": "code",
   "execution_count": null,
   "id": "cc001d6b",
   "metadata": {},
   "outputs": [],
   "source": [
    "engine = create_engine(\"sqlite:///Resources/hawaii.sqlite\")\n",
    "Base = automap_base()\n",
    "Base.prepare(autoload_with=engine)\n",
    "\n",
    "Measurement = Base.classes.measurement\n",
    "Station = Base.classes.station\n",
    "session = Session(engine)"
   ]
  },
  {
   "cell_type": "code",
   "execution_count": null,
   "id": "bba949b0",
   "metadata": {},
   "outputs": [],
   "source": [
    "# Helper: Last 12 Months from Latest Date"
   ]
  },
  {
   "cell_type": "code",
   "execution_count": null,
   "id": "df33369c",
   "metadata": {},
   "outputs": [],
   "source": [
    "latest_date = session.query(Measurement.date).order_by(Measurement.date.desc()).first()[0]\n",
    "latest_date = dt.datetime.strptime(latest_date, \"%Y-%m-%d\")\n",
    "one_year_ago = latest_date - dt.timedelta(days=365)"
   ]
  },
  {
   "cell_type": "code",
   "execution_count": null,
   "id": "fd0e7bdf",
   "metadata": {},
   "outputs": [],
   "source": [
    "# Precipitation Analysis"
   ]
  },
  {
   "cell_type": "code",
   "execution_count": null,
   "id": "9fa1ca8b",
   "metadata": {},
   "outputs": [],
   "source": [
    "precip_data = (\n",
    "    session.query(Measurement.date, Measurement.prcp)\n",
    "    .filter(Measurement.date >= one_year_ago)\n",
    "    .order_by(Measurement.date)\n",
    "    .all()\n",
    ")\n",
    "\n",
    "precip_df = pd.DataFrame(precip_data, columns=[\"Date\", \"Precipitation\"])\n",
    "precip_df.set_index(\"Date\", inplace=True)\n",
    "precip_df.sort_index(inplace=True)\n",
    "\n",
    "precip_df.plot(figsize=(10, 5), legend=False)\n",
    "plt.title(\"Precipitation Over the Last 12 Months\")\n",
    "plt.xlabel(\"Date\")\n",
    "plt.ylabel(\"Precipitation (inches)\")\n",
    "plt.xticks(rotation=45)\n",
    "plt.tight_layout()\n",
    "plt.grid(True)\n",
    "plt.show()"
   ]
  },
  {
   "cell_type": "code",
   "execution_count": null,
   "id": "c4343b69",
   "metadata": {},
   "outputs": [],
   "source": [
    "# Station Analysis"
   ]
  },
  {
   "cell_type": "code",
   "execution_count": null,
   "id": "4bcf4cf9",
   "metadata": {},
   "outputs": [],
   "source": [
    "station_count = session.query(Station).count()\n",
    "print(f\"Total Number of Stations: {station_count}\")\n",
    "\n",
    "active_stations = (\n",
    "    session.query(Measurement.station, func.count(Measurement.id))\n",
    "    .group_by(Measurement.station)\n",
    "    .order_by(func.count(Measurement.id).desc())\n",
    "    .all()\n",
    ")\n",
    "most_active_station = active_stations[0][0]\n",
    "print(f\"Most Active Station: {most_active_station}\")\n",
    "\n",
    "temps = (\n",
    "    session.query(\n",
    "        func.min(Measurement.tobs),\n",
    "        func.max(Measurement.tobs),\n",
    "        func.avg(Measurement.tobs),\n",
    "    )\n",
    "    .filter(Measurement.station == most_active_station)\n",
    "    .all()\n",
    ")\n",
    "print(f\"TMIN, TMAX, TAVG for {most_active_station}: {temps[0]}\")"
   ]
  },
  {
   "cell_type": "code",
   "execution_count": null,
   "id": "f90923ff",
   "metadata": {},
   "outputs": [],
   "source": [
    "# Temperature Observations for Most Active Station"
   ]
  },
  {
   "cell_type": "code",
   "execution_count": null,
   "id": "ac9e2cef",
   "metadata": {},
   "outputs": [],
   "source": [
    "tobs_data = (\n",
    "    session.query(Measurement.date, Measurement.tobs)\n",
    "    .filter(Measurement.station == most_active_station)\n",
    "    .filter(Measurement.date >= one_year_ago)\n",
    "    .order_by(Measurement.date)\n",
    "    .all()\n",
    ")\n",
    "\n",
    "tobs_df = pd.DataFrame(tobs_data, columns=[\"Date\", \"Temperature\"])\n",
    "tobs_df.set_index(\"Date\", inplace=True)\n",
    "\n",
    "tobs_df.plot(kind=\"hist\", bins=12, figsize=(8, 6))\n",
    "plt.title(f\"Temperature Distribution - Last 12 Months\\nStation: {most_active_station}\")\n",
    "plt.xlabel(\"Temperature (F)\")\n",
    "plt.ylabel(\"Frequency\")\n",
    "plt.grid(True)\n",
    "plt.tight_layout()\n",
    "plt.show()"
   ]
  },
  {
   "cell_type": "code",
   "execution_count": null,
   "id": "1212f5a8",
   "metadata": {},
   "outputs": [],
   "source": [
    "# Close session"
   ]
  },
  {
   "cell_type": "code",
   "execution_count": null,
   "id": "26b89c9f",
   "metadata": {},
   "outputs": [],
   "source": [
    "session.close()"
   ]
  }
 ],
 "metadata": {},
 "nbformat": 4,
 "nbformat_minor": 5
}
